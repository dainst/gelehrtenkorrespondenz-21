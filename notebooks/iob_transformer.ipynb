{
 "cells": [
  {
   "cell_type": "markdown",
   "id": "c880728a",
   "metadata": {},
   "source": [
    "# IOB Transformer\n",
    "\n",
    "This notebook uses an internal module to map WebAnno annotations to an IOB format. Besides the mappting to a TSV IOB format, the module also stores the mapped coarse NER, i.e. each WebAnno annotation (e.g. PERaddressse) maps to a broader entity (e.g. PER).\n",
    "\n",
    "The mapping to broader entities allows to train different models and gives the opportunity to combine different corpora which do not necessarily have the same fine grained entities.\n",
    "\n",
    "Furthermore, the module splits the data into three different sets (train, test, dev).\n",
    "\n",
    "The module is highly configurable but provides a default configuration as well."
   ]
  },
  {
   "cell_type": "code",
   "execution_count": 1,
   "id": "e8aef628",
   "metadata": {},
   "outputs": [],
   "source": [
    "# Run this once\n",
    "import sys\n",
    "import os\n",
    "sys.path.append('/app/src/data_access')\n",
    "os.chdir('..')\n",
    "%load_ext autoreload"
   ]
  },
  {
   "cell_type": "code",
   "execution_count": 2,
   "id": "12131bfc",
   "metadata": {
    "scrolled": false
   },
   "outputs": [],
   "source": [
    "%autoreload 2\n",
    "\n",
    "from iob_data_transformer import WebAnnoIobDataTransformer\n",
    "\n",
    "source_path = os.path.abspath('data/annotations/')\n",
    "output_path = os.path.abspath('data/iob')\n",
    "\n",
    "WebAnnoIobDataTransformer().transform(source_path, output_path)"
   ]
  },
  {
   "cell_type": "code",
   "execution_count": null,
   "id": "8f721120",
   "metadata": {},
   "outputs": [],
   "source": []
  }
 ],
 "metadata": {
  "kernelspec": {
   "display_name": "Python 3",
   "language": "python",
   "name": "python3"
  },
  "language_info": {
   "codemirror_mode": {
    "name": "ipython",
    "version": 3
   },
   "file_extension": ".py",
   "mimetype": "text/x-python",
   "name": "python",
   "nbconvert_exporter": "python",
   "pygments_lexer": "ipython3",
   "version": "3.9.4"
  }
 },
 "nbformat": 4,
 "nbformat_minor": 5
}
