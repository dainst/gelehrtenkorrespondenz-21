{
 "cells": [
  {
   "cell_type": "code",
   "execution_count": 1,
   "id": "bd2ee886",
   "metadata": {},
   "outputs": [],
   "source": [
    "# Run this once\n",
    "import sys\n",
    "import os\n",
    "\n",
    "sys.path.append('/app/src')\n",
    "sys.path.append('/app/src/data_access')\n",
    "\n",
    "os.chdir('..')\n",
    "\n",
    "%load_ext autoreload"
   ]
  },
  {
   "cell_type": "markdown",
   "id": "22b936d9",
   "metadata": {},
   "source": [
    "# Annotation Pipeline\n",
    "this uses functions of the ner pipeline module to automatically run annotations and all pre and after processing tasks. It uses a previously trained Flair model. The pipeline consists of the following steps:\n",
    "- Configure pipeline, i.e. specify locations of text files, model and output\n",
    "- Preprocess texts, i.e. split files in page files and remove hyphenation\n",
    "- Automatically annotate named entities and store it in WebAnno format\n",
    "- Write WebAnno annotations to files\n",
    "- Map WebAnno annotations to the Bookviewer JSON format\n",
    "- Write JSON format to files"
   ]
  },
  {
   "cell_type": "markdown",
   "id": "0c912442",
   "metadata": {},
   "source": [
    "## Configure pipeline\n",
    "Specify locations, load necessry modules and iterate thorugh files"
   ]
  },
  {
   "cell_type": "code",
   "execution_count": 2,
   "id": "81dfc2ea",
   "metadata": {},
   "outputs": [
    {
     "name": "stderr",
     "output_type": "stream",
     "text": [
      "/home/app/.local/lib/python3.8/site-packages/torch/cuda/__init__.py:52: UserWarning: CUDA initialization: Found no NVIDIA driver on your system. Please check that you have an NVIDIA GPU and installed a driver from http://www.nvidia.com/Download/index.aspx (Triggered internally at  /pytorch/c10/cuda/CUDAFunctions.cpp:100.)\n",
      "  return torch._C._cuda_getDeviceCount() > 0\n"
     ]
    },
    {
     "name": "stdout",
     "output_type": "stream",
     "text": [
      "2021-06-29 14:37:16,964 loading file resources/ner_models/ner-experiment_06_coarse/final-model.pt\n"
     ]
    }
   ],
   "source": [
    "%autoreload 2\n",
    "\n",
    "from ner import NER\n",
    "\n",
    "model_path = 'resources/ner_models/ner-experiment_06_coarse/final-model.pt'\n",
    "source_path = 'data/texts'\n",
    "output_webanno_path = 'resources/ner_automatic'\n",
    "output_bookviewer_path = 'resources/bookviewer'\n",
    "\n",
    "ner = NER(model_path = model_path)"
   ]
  },
  {
   "cell_type": "markdown",
   "id": "ab1dc280",
   "metadata": {},
   "source": [
    "## Run pipeline\n",
    "Each file consists of multiple pages in the corpus. Each file is processed separately"
   ]
  },
  {
   "cell_type": "code",
   "execution_count": null,
   "id": "9e361056",
   "metadata": {},
   "outputs": [],
   "source": [
    "%autoreload 2\n",
    "\n",
    "ner.annotate_files(\n",
    "    source_path = source_path,\n",
    "    output_webanno_path = output_webanno_path,\n",
    "    output_bookviewer_path = output_bookviewer_path)"
   ]
  },
  {
   "cell_type": "code",
   "execution_count": null,
   "id": "d977e487",
   "metadata": {},
   "outputs": [],
   "source": []
  }
 ],
 "metadata": {
  "kernelspec": {
   "display_name": "Python 3",
   "language": "python",
   "name": "python3"
  },
  "language_info": {
   "codemirror_mode": {
    "name": "ipython",
    "version": 3
   },
   "file_extension": ".py",
   "mimetype": "text/x-python",
   "name": "python",
   "nbconvert_exporter": "python",
   "pygments_lexer": "ipython3",
   "version": "3.8.9"
  }
 },
 "nbformat": 4,
 "nbformat_minor": 5
}
