{
 "cells": [
  {
   "cell_type": "markdown",
   "id": "c880728a",
   "metadata": {},
   "source": [
    "# Flair Experiment\n",
    "\n",
    "This notebook uses the Flair library to train and annotate the corpus of this project. "
   ]
  },
  {
   "cell_type": "code",
   "execution_count": 2,
   "id": "e8aef628",
   "metadata": {},
   "outputs": [],
   "source": [
    "from flair.data import Corpus\n",
    "from flair.datasets import ColumnCorpus"
   ]
  },
  {
   "cell_type": "markdown",
   "id": "31ccb5a0",
   "metadata": {},
   "source": [
    "## Load corpus \n",
    "\n",
    "The following cell loads the corpus"
   ]
  },
  {
   "cell_type": "code",
   "execution_count": 3,
   "id": "12131bfc",
   "metadata": {
    "scrolled": false
   },
   "outputs": [
    {
     "name": "stdout",
     "output_type": "stream",
     "text": [
      "2021-06-23 16:38:28,501 Reading data from ../data/iob\n",
      "2021-06-23 16:38:28,504 Train: ../data/iob/train.txt\n",
      "2021-06-23 16:38:28,507 Dev: ../data/iob/dev.txt\n",
      "2021-06-23 16:38:28,510 Test: ../data/iob/test.txt\n",
      "Corpus: 32250 train + 4031 dev + 4102 test sentences\n"
     ]
    }
   ],
   "source": [
    "corpus: Corpus = ColumnCorpus('../data/iob/', \n",
    "                              {0: 'text', 2: 'ner'},\n",
    "                              train_file='train.txt',\n",
    "                              test_file='test.txt',\n",
    "                              dev_file='dev.txt',\n",
    "                              in_memory=False)\n",
    "print(corpus)\n",
    "#print(corpus.obtain_statistics())\n",
    "#print(corpus.make_tag_dictionary(tag_type='ner'))"
   ]
  },
  {
   "cell_type": "markdown",
   "id": "50826f84",
   "metadata": {},
   "source": [
    "## Prepare training\n",
    "Based on the corpus, the following cell prepares the training. It uses FlairEmbeddings"
   ]
  },
  {
   "cell_type": "code",
   "execution_count": 4,
   "id": "77d5cf60",
   "metadata": {},
   "outputs": [
    {
     "name": "stdout",
     "output_type": "stream",
     "text": [
      "2021-06-23 16:38:42,591 https://flair.informatik.hu-berlin.de/resources/embeddings/flair/redewiedergabe_lm_forward.pt not found in cache, downloading to /tmp/tmp8_pwenh3\n"
     ]
    },
    {
     "name": "stderr",
     "output_type": "stream",
     "text": [
      "100%|██████████| 72819063/72819063 [00:32<00:00, 2229617.09B/s]"
     ]
    },
    {
     "name": "stdout",
     "output_type": "stream",
     "text": [
      "2021-06-23 16:39:15,415 copying /tmp/tmp8_pwenh3 to cache at /home/app/.flair/embeddings/redewiedergabe_lm_forward.pt\n"
     ]
    },
    {
     "name": "stderr",
     "output_type": "stream",
     "text": [
      "\n"
     ]
    },
    {
     "name": "stdout",
     "output_type": "stream",
     "text": [
      "2021-06-23 16:39:15,477 removing temp file /tmp/tmp8_pwenh3\n",
      "2021-06-23 16:39:15,837 https://flair.informatik.hu-berlin.de/resources/embeddings/flair/redewiedergabe_lm_backward.pt not found in cache, downloading to /tmp/tmpm6luyj2y\n"
     ]
    },
    {
     "name": "stderr",
     "output_type": "stream",
     "text": [
      "100%|██████████| 72819073/72819073 [00:33<00:00, 2182591.58B/s]"
     ]
    },
    {
     "name": "stdout",
     "output_type": "stream",
     "text": [
      "2021-06-23 16:39:49,460 copying /tmp/tmpm6luyj2y to cache at /home/app/.flair/embeddings/redewiedergabe_lm_backward.pt\n"
     ]
    },
    {
     "name": "stderr",
     "output_type": "stream",
     "text": [
      "\n"
     ]
    },
    {
     "name": "stdout",
     "output_type": "stream",
     "text": [
      "2021-06-23 16:39:49,508 removing temp file /tmp/tmpm6luyj2y\n"
     ]
    }
   ],
   "source": [
    "from flair.data import Corpus\n",
    "from flair.datasets import UD_ENGLISH\n",
    "from flair.embeddings import WordEmbeddings, StackedEmbeddings, FlairEmbeddings, BytePairEmbeddings, CharacterEmbeddings\n",
    "from flair.models import SequenceTagger\n",
    "from flair.trainers import ModelTrainer\n",
    "\n",
    "tag_type = 'ner'\n",
    "tag_dictionary = corpus.make_tag_dictionary(tag_type=tag_type)\n",
    "\n",
    "embeddings: StackedEmbeddings = StackedEmbeddings(embeddings=[\n",
    "#    WordEmbeddings('de'),\n",
    "#    CharacterEmbeddings(),\n",
    "#    BytePairEmbeddings('de'),\n",
    "    FlairEmbeddings('de-historic-rw-forward'),\n",
    "    FlairEmbeddings('de-historic-rw-backward')\n",
    "])\n",
    "    \n",
    "tagger: SequenceTagger = SequenceTagger(hidden_size=256,\n",
    "                                        embeddings=embeddings,\n",
    "                                        tag_dictionary=tag_dictionary,\n",
    "                                        tag_type=tag_type,\n",
    "                                        use_crf=True)\n",
    "    \n",
    "trainer: ModelTrainer = ModelTrainer(tagger, corpus)"
   ]
  },
  {
   "cell_type": "markdown",
   "id": "eef0fcfc",
   "metadata": {},
   "source": [
    "## Train model\n"
   ]
  },
  {
   "cell_type": "code",
   "execution_count": null,
   "id": "f7cd6572",
   "metadata": {},
   "outputs": [],
   "source": [
    "trainer.train('../resources/ner_models/ner-experiment_xx',\n",
    "              learning_rate=0.1,\n",
    "              mini_batch_size=32,\n",
    "              embeddings_storage_mode=\"cpu\",\n",
    "              shuffle=False,\n",
    "              max_epochs=150)"
   ]
  }
 ],
 "metadata": {
  "kernelspec": {
   "display_name": "Python 3",
   "language": "python",
   "name": "python3"
  },
  "language_info": {
   "codemirror_mode": {
    "name": "ipython",
    "version": 3
   },
   "file_extension": ".py",
   "mimetype": "text/x-python",
   "name": "python",
   "nbconvert_exporter": "python",
   "pygments_lexer": "ipython3",
   "version": "3.8.9"
  }
 },
 "nbformat": 4,
 "nbformat_minor": 5
}
