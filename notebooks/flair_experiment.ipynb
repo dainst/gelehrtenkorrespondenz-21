{
 "cells": [
  {
   "cell_type": "markdown",
   "id": "c880728a",
   "metadata": {},
   "source": [
    "# Flair Experiment\n",
    "\n",
    "This notebook uses the Flair library to train and annotate the corpus of this project. "
   ]
  },
  {
   "cell_type": "code",
   "execution_count": 5,
   "id": "e8aef628",
   "metadata": {},
   "outputs": [],
   "source": [
    "from flair.data import Corpus\n",
    "from flair.datasets import ColumnCorpus"
   ]
  },
  {
   "cell_type": "markdown",
   "id": "31ccb5a0",
   "metadata": {},
   "source": [
    "## Load corpus \n",
    "\n",
    "The following cell loads the corpus"
   ]
  },
  {
   "cell_type": "code",
   "execution_count": null,
   "id": "12131bfc",
   "metadata": {
    "scrolled": false
   },
   "outputs": [
    {
     "name": "stdout",
     "output_type": "stream",
     "text": [
      "2021-06-17 09:48:19,224 Reading data from ../data/iob\n",
      "2021-06-17 09:48:19,227 Train: ../data/iob/train.txt\n",
      "2021-06-17 09:48:19,228 Dev: ../data/iob/dev.txt\n",
      "2021-06-17 09:48:19,229 Test: ../data/iob/test.txt\n"
     ]
    }
   ],
   "source": [
    "corpus: Corpus = ColumnCorpus('../data/iob/', \n",
    "                              {0: 'text', 2: 'ner'},\n",
    "                              train_file='train.txt',\n",
    "                              test_file='test.txt',\n",
    "                              dev_file='dev.txt',\n",
    "                              in_memory=False)\n",
    "print(corpus)\n",
    "#print(corpus.obtain_statistics())\n",
    "#print(corpus.make_tag_dictionary(tag_type='ner'))"
   ]
  },
  {
   "cell_type": "markdown",
   "id": "50826f84",
   "metadata": {},
   "source": [
    "## Prepare training\n",
    "Based on the corpus, the following cell prepares the training. It uses FlairEmbeddings"
   ]
  },
  {
   "cell_type": "code",
   "execution_count": null,
   "id": "77d5cf60",
   "metadata": {},
   "outputs": [],
   "source": [
    "from flair.data import Corpus\n",
    "from flair.datasets import UD_ENGLISH\n",
    "from flair.embeddings import WordEmbeddings, StackedEmbeddings, FlairEmbeddings, BytePairEmbeddings, CharacterEmbeddings\n",
    "from flair.models import SequenceTagger\n",
    "from flair.trainers import ModelTrainer\n",
    "\n",
    "tag_type = 'ner'\n",
    "tag_dictionary = corpus.make_tag_dictionary(tag_type=tag_type)\n",
    "\n",
    "embeddings: StackedEmbeddings = StackedEmbeddings(embeddings=[\n",
    "#    WordEmbeddings('de'),\n",
    "    CharacterEmbeddings(),\n",
    "    BytePairEmbeddings('de'),\n",
    "    FlairEmbeddings('de-historic-rw-forward'),\n",
    "    FlairEmbeddings('de-historic-rw-backward')\n",
    "])\n",
    "    \n",
    "tagger: SequenceTagger = SequenceTagger(hidden_size=256,\n",
    "                                        embeddings=embeddings,\n",
    "                                        tag_dictionary=tag_dictionary,\n",
    "                                        tag_type=tag_type,\n",
    "                                        use_crf=True)\n",
    "    \n",
    "trainer: ModelTrainer = ModelTrainer(tagger, corpus)"
   ]
  },
  {
   "cell_type": "markdown",
   "id": "eef0fcfc",
   "metadata": {},
   "source": [
    "## Train model\n"
   ]
  },
  {
   "cell_type": "code",
   "execution_count": 1,
   "id": "f7cd6572",
   "metadata": {
    "collapsed": true
   },
   "outputs": [
    {
     "ename": "NameError",
     "evalue": "name 'trainer' is not defined",
     "output_type": "error",
     "traceback": [
      "\u001b[0;31m\u001b[0m",
      "\u001b[0;31mNameError\u001b[0mTraceback (most recent call last)",
      "\u001b[0;32m<ipython-input-1-d71b2b2b4801>\u001b[0m in \u001b[0;36m<module>\u001b[0;34m\u001b[0m\n\u001b[0;32m----> 1\u001b[0;31m trainer.train('../src/data_access/resources/ner-experiment_03_coarse',\n\u001b[0m\u001b[1;32m      2\u001b[0m               \u001b[0mlearning_rate\u001b[0m\u001b[0;34m=\u001b[0m\u001b[0;36m0.1\u001b[0m\u001b[0;34m,\u001b[0m\u001b[0;34m\u001b[0m\u001b[0;34m\u001b[0m\u001b[0m\n\u001b[1;32m      3\u001b[0m               \u001b[0mmini_batch_size\u001b[0m\u001b[0;34m=\u001b[0m\u001b[0;36m8\u001b[0m\u001b[0;34m,\u001b[0m\u001b[0;34m\u001b[0m\u001b[0;34m\u001b[0m\u001b[0m\n\u001b[1;32m      4\u001b[0m               \u001b[0membeddings_storage_mode\u001b[0m\u001b[0;34m=\u001b[0m\u001b[0;34m\"cpu\"\u001b[0m\u001b[0;34m,\u001b[0m\u001b[0;34m\u001b[0m\u001b[0;34m\u001b[0m\u001b[0m\n\u001b[1;32m      5\u001b[0m               \u001b[0mshuffle\u001b[0m\u001b[0;34m=\u001b[0m\u001b[0;32mFalse\u001b[0m\u001b[0;34m,\u001b[0m\u001b[0;34m\u001b[0m\u001b[0;34m\u001b[0m\u001b[0m\n",
      "\u001b[0;31mNameError\u001b[0m: name 'trainer' is not defined"
     ]
    }
   ],
   "source": [
    "trainer.train('../resources/ner_models/ner-experiment_xx',\n",
    "              learning_rate=0.1,\n",
    "              mini_batch_size=32,\n",
    "              embeddings_storage_mode=\"cpu\",\n",
    "              shuffle=False,\n",
    "              max_epochs=150)"
   ]
  }
 ],
 "metadata": {
  "kernelspec": {
   "display_name": "Python 3",
   "language": "python",
   "name": "python3"
  },
  "language_info": {
   "codemirror_mode": {
    "name": "ipython",
    "version": 3
   },
   "file_extension": ".py",
   "mimetype": "text/x-python",
   "name": "python",
   "nbconvert_exporter": "python",
   "pygments_lexer": "ipython3",
   "version": "3.8.9"
  }
 },
 "nbformat": 4,
 "nbformat_minor": 5
}
