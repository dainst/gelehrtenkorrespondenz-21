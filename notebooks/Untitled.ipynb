{
 "cells": [
  {
   "cell_type": "markdown",
   "id": "fce3ef20",
   "metadata": {},
   "source": [
    "# Corpus visualization\n",
    "\n",
    "This notebook is used to gain information about the corpus."
   ]
  },
  {
   "cell_type": "markdown",
   "id": "dc99f76c",
   "metadata": {},
   "source": [
    "## Word clouds\n",
    "\n",
    "The following section creates word clouds for each book"
   ]
  },
  {
   "cell_type": "code",
   "execution_count": null,
   "id": "3904df14",
   "metadata": {},
   "outputs": [],
   "source": []
  }
 ],
 "metadata": {
  "kernelspec": {
   "display_name": "Python 3",
   "language": "python",
   "name": "python3"
  },
  "language_info": {
   "codemirror_mode": {
    "name": "ipython",
    "version": 3
   },
   "file_extension": ".py",
   "mimetype": "text/x-python",
   "name": "python",
   "nbconvert_exporter": "python",
   "pygments_lexer": "ipython3",
   "version": "3.8.9"
  }
 },
 "nbformat": 4,
 "nbformat_minor": 5
}
